{
 "cells": [
  {
   "cell_type": "code",
   "execution_count": 581,
   "id": "c8831f04-0334-48f1-8589-3d90131b9a38",
   "metadata": {},
   "outputs": [],
   "source": [
    "import pandas as pd"
   ]
  },
  {
   "cell_type": "code",
   "execution_count": 583,
   "id": "09d15732-ac78-4db5-8be2-cd70e5027af1",
   "metadata": {},
   "outputs": [],
   "source": [
    "data=pd.read_csv('netflix1.csv')"
   ]
  },
  {
   "cell_type": "code",
   "execution_count": 585,
   "id": "18f05d90-d9f6-44d3-b02e-206d29f6c93a",
   "metadata": {},
   "outputs": [
    {
     "data": {
      "text/html": [
       "<div>\n",
       "<style scoped>\n",
       "    .dataframe tbody tr th:only-of-type {\n",
       "        vertical-align: middle;\n",
       "    }\n",
       "\n",
       "    .dataframe tbody tr th {\n",
       "        vertical-align: top;\n",
       "    }\n",
       "\n",
       "    .dataframe thead th {\n",
       "        text-align: right;\n",
       "    }\n",
       "</style>\n",
       "<table border=\"1\" class=\"dataframe\">\n",
       "  <thead>\n",
       "    <tr style=\"text-align: right;\">\n",
       "      <th></th>\n",
       "      <th>show_id</th>\n",
       "      <th>type</th>\n",
       "      <th>title</th>\n",
       "      <th>director</th>\n",
       "      <th>country</th>\n",
       "      <th>date_added</th>\n",
       "      <th>release_year</th>\n",
       "      <th>rating</th>\n",
       "      <th>duration</th>\n",
       "      <th>listed_in</th>\n",
       "    </tr>\n",
       "  </thead>\n",
       "  <tbody>\n",
       "    <tr>\n",
       "      <th>0</th>\n",
       "      <td>s1</td>\n",
       "      <td>Movie</td>\n",
       "      <td>Dick Johnson Is Dead</td>\n",
       "      <td>Kirsten Johnson</td>\n",
       "      <td>United States</td>\n",
       "      <td>9/25/2021</td>\n",
       "      <td>2020</td>\n",
       "      <td>PG-13</td>\n",
       "      <td>90 min</td>\n",
       "      <td>Documentaries</td>\n",
       "    </tr>\n",
       "    <tr>\n",
       "      <th>1</th>\n",
       "      <td>s3</td>\n",
       "      <td>TV Show</td>\n",
       "      <td>Ganglands</td>\n",
       "      <td>Julien Leclercq</td>\n",
       "      <td>France</td>\n",
       "      <td>9/24/2021</td>\n",
       "      <td>2021</td>\n",
       "      <td>TV-MA</td>\n",
       "      <td>1 Season</td>\n",
       "      <td>Crime TV Shows, International TV Shows, TV Act...</td>\n",
       "    </tr>\n",
       "    <tr>\n",
       "      <th>2</th>\n",
       "      <td>s6</td>\n",
       "      <td>TV Show</td>\n",
       "      <td>Midnight Mass</td>\n",
       "      <td>Mike Flanagan</td>\n",
       "      <td>United States</td>\n",
       "      <td>9/24/2021</td>\n",
       "      <td>2021</td>\n",
       "      <td>TV-MA</td>\n",
       "      <td>1 Season</td>\n",
       "      <td>TV Dramas, TV Horror, TV Mysteries</td>\n",
       "    </tr>\n",
       "    <tr>\n",
       "      <th>3</th>\n",
       "      <td>s14</td>\n",
       "      <td>Movie</td>\n",
       "      <td>Confessions of an Invisible Girl</td>\n",
       "      <td>Bruno Garotti</td>\n",
       "      <td>Brazil</td>\n",
       "      <td>9/22/2021</td>\n",
       "      <td>2021</td>\n",
       "      <td>TV-PG</td>\n",
       "      <td>91 min</td>\n",
       "      <td>Children &amp; Family Movies, Comedies</td>\n",
       "    </tr>\n",
       "    <tr>\n",
       "      <th>4</th>\n",
       "      <td>s8</td>\n",
       "      <td>Movie</td>\n",
       "      <td>Sankofa</td>\n",
       "      <td>Haile Gerima</td>\n",
       "      <td>United States</td>\n",
       "      <td>9/24/2021</td>\n",
       "      <td>1993</td>\n",
       "      <td>TV-MA</td>\n",
       "      <td>125 min</td>\n",
       "      <td>Dramas, Independent Movies, International Movies</td>\n",
       "    </tr>\n",
       "  </tbody>\n",
       "</table>\n",
       "</div>"
      ],
      "text/plain": [
       "  show_id     type                             title         director  \\\n",
       "0      s1    Movie              Dick Johnson Is Dead  Kirsten Johnson   \n",
       "1      s3  TV Show                         Ganglands  Julien Leclercq   \n",
       "2      s6  TV Show                     Midnight Mass    Mike Flanagan   \n",
       "3     s14    Movie  Confessions of an Invisible Girl    Bruno Garotti   \n",
       "4      s8    Movie                           Sankofa     Haile Gerima   \n",
       "\n",
       "         country date_added  release_year rating  duration  \\\n",
       "0  United States  9/25/2021          2020  PG-13    90 min   \n",
       "1         France  9/24/2021          2021  TV-MA  1 Season   \n",
       "2  United States  9/24/2021          2021  TV-MA  1 Season   \n",
       "3         Brazil  9/22/2021          2021  TV-PG    91 min   \n",
       "4  United States  9/24/2021          1993  TV-MA   125 min   \n",
       "\n",
       "                                           listed_in  \n",
       "0                                      Documentaries  \n",
       "1  Crime TV Shows, International TV Shows, TV Act...  \n",
       "2                 TV Dramas, TV Horror, TV Mysteries  \n",
       "3                 Children & Family Movies, Comedies  \n",
       "4   Dramas, Independent Movies, International Movies  "
      ]
     },
     "execution_count": 585,
     "metadata": {},
     "output_type": "execute_result"
    }
   ],
   "source": [
    "data.head(5)"
   ]
  },
  {
   "cell_type": "code",
   "execution_count": 587,
   "id": "77fad0c8-74ff-4265-b8f4-6c051df6dfc2",
   "metadata": {},
   "outputs": [],
   "source": [
    "tvshow_data=data[data['type']=='TV Show']"
   ]
  },
  {
   "cell_type": "code",
   "execution_count": 589,
   "id": "f293a1e0-81d4-4c46-945e-df2308bd9e0e",
   "metadata": {},
   "outputs": [],
   "source": [
    "movies_data=data[data['type']=='Movie']"
   ]
  },
  {
   "cell_type": "code",
   "execution_count": 591,
   "id": "63a22bea-120e-402a-b384-6b24438f60d3",
   "metadata": {},
   "outputs": [
    {
     "data": {
      "text/html": [
       "<div>\n",
       "<style scoped>\n",
       "    .dataframe tbody tr th:only-of-type {\n",
       "        vertical-align: middle;\n",
       "    }\n",
       "\n",
       "    .dataframe tbody tr th {\n",
       "        vertical-align: top;\n",
       "    }\n",
       "\n",
       "    .dataframe thead th {\n",
       "        text-align: right;\n",
       "    }\n",
       "</style>\n",
       "<table border=\"1\" class=\"dataframe\">\n",
       "  <thead>\n",
       "    <tr style=\"text-align: right;\">\n",
       "      <th></th>\n",
       "      <th>show_id</th>\n",
       "      <th>type</th>\n",
       "      <th>title</th>\n",
       "      <th>director</th>\n",
       "      <th>country</th>\n",
       "      <th>date_added</th>\n",
       "      <th>release_year</th>\n",
       "      <th>rating</th>\n",
       "      <th>duration</th>\n",
       "      <th>listed_in</th>\n",
       "    </tr>\n",
       "  </thead>\n",
       "  <tbody>\n",
       "    <tr>\n",
       "      <th>1</th>\n",
       "      <td>s3</td>\n",
       "      <td>TV Show</td>\n",
       "      <td>Ganglands</td>\n",
       "      <td>Julien Leclercq</td>\n",
       "      <td>France</td>\n",
       "      <td>9/24/2021</td>\n",
       "      <td>2021</td>\n",
       "      <td>TV-MA</td>\n",
       "      <td>1 Season</td>\n",
       "      <td>Crime TV Shows, International TV Shows, TV Act...</td>\n",
       "    </tr>\n",
       "    <tr>\n",
       "      <th>2</th>\n",
       "      <td>s6</td>\n",
       "      <td>TV Show</td>\n",
       "      <td>Midnight Mass</td>\n",
       "      <td>Mike Flanagan</td>\n",
       "      <td>United States</td>\n",
       "      <td>9/24/2021</td>\n",
       "      <td>2021</td>\n",
       "      <td>TV-MA</td>\n",
       "      <td>1 Season</td>\n",
       "      <td>TV Dramas, TV Horror, TV Mysteries</td>\n",
       "    </tr>\n",
       "    <tr>\n",
       "      <th>5</th>\n",
       "      <td>s9</td>\n",
       "      <td>TV Show</td>\n",
       "      <td>The Great British Baking Show</td>\n",
       "      <td>Andy Devonshire</td>\n",
       "      <td>United Kingdom</td>\n",
       "      <td>9/24/2021</td>\n",
       "      <td>2021</td>\n",
       "      <td>TV-14</td>\n",
       "      <td>9 Seasons</td>\n",
       "      <td>British TV Shows, Reality TV</td>\n",
       "    </tr>\n",
       "    <tr>\n",
       "      <th>17</th>\n",
       "      <td>s4</td>\n",
       "      <td>TV Show</td>\n",
       "      <td>Jailbirds New Orleans</td>\n",
       "      <td>Not Given</td>\n",
       "      <td>Pakistan</td>\n",
       "      <td>9/24/2021</td>\n",
       "      <td>2021</td>\n",
       "      <td>TV-MA</td>\n",
       "      <td>1 Season</td>\n",
       "      <td>Docuseries, Reality TV</td>\n",
       "    </tr>\n",
       "    <tr>\n",
       "      <th>18</th>\n",
       "      <td>s15</td>\n",
       "      <td>TV Show</td>\n",
       "      <td>Crime Stories: India Detectives</td>\n",
       "      <td>Not Given</td>\n",
       "      <td>Pakistan</td>\n",
       "      <td>9/22/2021</td>\n",
       "      <td>2021</td>\n",
       "      <td>TV-MA</td>\n",
       "      <td>1 Season</td>\n",
       "      <td>British TV Shows, Crime TV Shows, Docuseries</td>\n",
       "    </tr>\n",
       "    <tr>\n",
       "      <th>...</th>\n",
       "      <td>...</td>\n",
       "      <td>...</td>\n",
       "      <td>...</td>\n",
       "      <td>...</td>\n",
       "      <td>...</td>\n",
       "      <td>...</td>\n",
       "      <td>...</td>\n",
       "      <td>...</td>\n",
       "      <td>...</td>\n",
       "      <td>...</td>\n",
       "    </tr>\n",
       "    <tr>\n",
       "      <th>8785</th>\n",
       "      <td>s8797</td>\n",
       "      <td>TV Show</td>\n",
       "      <td>Yunus Emre</td>\n",
       "      <td>Not Given</td>\n",
       "      <td>Turkey</td>\n",
       "      <td>1/17/2017</td>\n",
       "      <td>2016</td>\n",
       "      <td>TV-PG</td>\n",
       "      <td>2 Seasons</td>\n",
       "      <td>International TV Shows, TV Dramas</td>\n",
       "    </tr>\n",
       "    <tr>\n",
       "      <th>8786</th>\n",
       "      <td>s8798</td>\n",
       "      <td>TV Show</td>\n",
       "      <td>Zak Storm</td>\n",
       "      <td>Not Given</td>\n",
       "      <td>United States</td>\n",
       "      <td>9/13/2018</td>\n",
       "      <td>2016</td>\n",
       "      <td>TV-Y7</td>\n",
       "      <td>3 Seasons</td>\n",
       "      <td>Kids' TV</td>\n",
       "    </tr>\n",
       "    <tr>\n",
       "      <th>8787</th>\n",
       "      <td>s8801</td>\n",
       "      <td>TV Show</td>\n",
       "      <td>Zindagi Gulzar Hai</td>\n",
       "      <td>Not Given</td>\n",
       "      <td>Pakistan</td>\n",
       "      <td>12/15/2016</td>\n",
       "      <td>2012</td>\n",
       "      <td>TV-PG</td>\n",
       "      <td>1 Season</td>\n",
       "      <td>International TV Shows, Romantic TV Shows, TV ...</td>\n",
       "    </tr>\n",
       "    <tr>\n",
       "      <th>8788</th>\n",
       "      <td>s8784</td>\n",
       "      <td>TV Show</td>\n",
       "      <td>Yoko</td>\n",
       "      <td>Not Given</td>\n",
       "      <td>Pakistan</td>\n",
       "      <td>6/23/2018</td>\n",
       "      <td>2016</td>\n",
       "      <td>TV-Y</td>\n",
       "      <td>1 Season</td>\n",
       "      <td>Kids' TV</td>\n",
       "    </tr>\n",
       "    <tr>\n",
       "      <th>8789</th>\n",
       "      <td>s8786</td>\n",
       "      <td>TV Show</td>\n",
       "      <td>YOM</td>\n",
       "      <td>Not Given</td>\n",
       "      <td>Pakistan</td>\n",
       "      <td>6/7/2018</td>\n",
       "      <td>2016</td>\n",
       "      <td>TV-Y7</td>\n",
       "      <td>1 Season</td>\n",
       "      <td>Kids' TV</td>\n",
       "    </tr>\n",
       "  </tbody>\n",
       "</table>\n",
       "<p>2664 rows × 10 columns</p>\n",
       "</div>"
      ],
      "text/plain": [
       "     show_id     type                            title         director  \\\n",
       "1         s3  TV Show                        Ganglands  Julien Leclercq   \n",
       "2         s6  TV Show                    Midnight Mass    Mike Flanagan   \n",
       "5         s9  TV Show    The Great British Baking Show  Andy Devonshire   \n",
       "17        s4  TV Show            Jailbirds New Orleans        Not Given   \n",
       "18       s15  TV Show  Crime Stories: India Detectives        Not Given   \n",
       "...      ...      ...                              ...              ...   \n",
       "8785   s8797  TV Show                       Yunus Emre        Not Given   \n",
       "8786   s8798  TV Show                        Zak Storm        Not Given   \n",
       "8787   s8801  TV Show               Zindagi Gulzar Hai        Not Given   \n",
       "8788   s8784  TV Show                             Yoko        Not Given   \n",
       "8789   s8786  TV Show                              YOM        Not Given   \n",
       "\n",
       "             country  date_added  release_year rating   duration  \\\n",
       "1             France   9/24/2021          2021  TV-MA   1 Season   \n",
       "2      United States   9/24/2021          2021  TV-MA   1 Season   \n",
       "5     United Kingdom   9/24/2021          2021  TV-14  9 Seasons   \n",
       "17          Pakistan   9/24/2021          2021  TV-MA   1 Season   \n",
       "18          Pakistan   9/22/2021          2021  TV-MA   1 Season   \n",
       "...              ...         ...           ...    ...        ...   \n",
       "8785          Turkey   1/17/2017          2016  TV-PG  2 Seasons   \n",
       "8786   United States   9/13/2018          2016  TV-Y7  3 Seasons   \n",
       "8787        Pakistan  12/15/2016          2012  TV-PG   1 Season   \n",
       "8788        Pakistan   6/23/2018          2016   TV-Y   1 Season   \n",
       "8789        Pakistan    6/7/2018          2016  TV-Y7   1 Season   \n",
       "\n",
       "                                              listed_in  \n",
       "1     Crime TV Shows, International TV Shows, TV Act...  \n",
       "2                    TV Dramas, TV Horror, TV Mysteries  \n",
       "5                          British TV Shows, Reality TV  \n",
       "17                               Docuseries, Reality TV  \n",
       "18         British TV Shows, Crime TV Shows, Docuseries  \n",
       "...                                                 ...  \n",
       "8785                  International TV Shows, TV Dramas  \n",
       "8786                                           Kids' TV  \n",
       "8787  International TV Shows, Romantic TV Shows, TV ...  \n",
       "8788                                           Kids' TV  \n",
       "8789                                           Kids' TV  \n",
       "\n",
       "[2664 rows x 10 columns]"
      ]
     },
     "execution_count": 591,
     "metadata": {},
     "output_type": "execute_result"
    }
   ],
   "source": [
    "tvshow_data"
   ]
  },
  {
   "cell_type": "code",
   "execution_count": 593,
   "id": "ed85c9d5-858e-4d26-a014-9d6c69e51c77",
   "metadata": {},
   "outputs": [
    {
     "name": "stdout",
     "output_type": "stream",
     "text": [
      "<class 'pandas.core.frame.DataFrame'>\n",
      "Index: 2664 entries, 1 to 8789\n",
      "Data columns (total 10 columns):\n",
      " #   Column        Non-Null Count  Dtype \n",
      "---  ------        --------------  ----- \n",
      " 0   show_id       2664 non-null   object\n",
      " 1   type          2664 non-null   object\n",
      " 2   title         2664 non-null   object\n",
      " 3   director      2664 non-null   object\n",
      " 4   country       2664 non-null   object\n",
      " 5   date_added    2664 non-null   object\n",
      " 6   release_year  2664 non-null   int64 \n",
      " 7   rating        2664 non-null   object\n",
      " 8   duration      2664 non-null   object\n",
      " 9   listed_in     2664 non-null   object\n",
      "dtypes: int64(1), object(9)\n",
      "memory usage: 228.9+ KB\n"
     ]
    }
   ],
   "source": [
    "tvshow_data.info()"
   ]
  },
  {
   "cell_type": "code",
   "execution_count": 595,
   "id": "e6d8af89-e1ae-4e55-a3ec-0909c1433ce9",
   "metadata": {},
   "outputs": [
    {
     "name": "stderr",
     "output_type": "stream",
     "text": [
      "C:\\Users\\chigu\\AppData\\Local\\Temp\\ipykernel_24352\\4268893171.py:1: SettingWithCopyWarning: \n",
      "A value is trying to be set on a copy of a slice from a DataFrame.\n",
      "Try using .loc[row_indexer,col_indexer] = value instead\n",
      "\n",
      "See the caveats in the documentation: https://pandas.pydata.org/pandas-docs/stable/user_guide/indexing.html#returning-a-view-versus-a-copy\n",
      "  tvshow_data['date_added'] = pd.to_datetime(tvshow_data['date_added'])\n"
     ]
    }
   ],
   "source": [
    "tvshow_data['date_added'] = pd.to_datetime(tvshow_data['date_added'])"
   ]
  },
  {
   "cell_type": "code",
   "execution_count": 597,
   "id": "63bf2191-9bd2-4389-92b0-04b048823e0e",
   "metadata": {},
   "outputs": [
    {
     "name": "stderr",
     "output_type": "stream",
     "text": [
      "C:\\Users\\chigu\\AppData\\Local\\Temp\\ipykernel_24352\\3702917380.py:1: SettingWithCopyWarning: \n",
      "A value is trying to be set on a copy of a slice from a DataFrame.\n",
      "Try using .loc[row_indexer,col_indexer] = value instead\n",
      "\n",
      "See the caveats in the documentation: https://pandas.pydata.org/pandas-docs/stable/user_guide/indexing.html#returning-a-view-versus-a-copy\n",
      "  movies_data['date_added'] = pd.to_datetime(movies_data['date_added'])\n"
     ]
    }
   ],
   "source": [
    "movies_data['date_added'] = pd.to_datetime(movies_data['date_added'])"
   ]
  },
  {
   "cell_type": "code",
   "execution_count": 599,
   "id": "324830f1-a232-4312-b40a-1182809e138b",
   "metadata": {},
   "outputs": [
    {
     "data": {
      "text/plain": [
       "show_id         0\n",
       "type            0\n",
       "title           0\n",
       "director        0\n",
       "country         0\n",
       "date_added      0\n",
       "release_year    0\n",
       "rating          0\n",
       "duration        0\n",
       "listed_in       0\n",
       "dtype: int64"
      ]
     },
     "execution_count": 599,
     "metadata": {},
     "output_type": "execute_result"
    }
   ],
   "source": [
    "tvshow_data.isnull().sum()"
   ]
  },
  {
   "cell_type": "code",
   "execution_count": 601,
   "id": "851302a1-b1c6-431a-858a-5434dbe8ee88",
   "metadata": {},
   "outputs": [
    {
     "data": {
      "text/plain": [
       "show_id         0\n",
       "type            0\n",
       "title           0\n",
       "director        0\n",
       "country         0\n",
       "date_added      0\n",
       "release_year    0\n",
       "rating          0\n",
       "duration        0\n",
       "listed_in       0\n",
       "dtype: int64"
      ]
     },
     "execution_count": 601,
     "metadata": {},
     "output_type": "execute_result"
    }
   ],
   "source": [
    "movies_data.isnull().sum()"
   ]
  },
  {
   "cell_type": "code",
   "execution_count": 603,
   "id": "08ad44d0-afef-466e-bc7d-0400ef2f1565",
   "metadata": {},
   "outputs": [
    {
     "data": {
      "text/plain": [
       "0       False\n",
       "3       False\n",
       "4       False\n",
       "6       False\n",
       "7       False\n",
       "        ...  \n",
       "8702    False\n",
       "8707    False\n",
       "8716    False\n",
       "8763    False\n",
       "8783    False\n",
       "Length: 6126, dtype: bool"
      ]
     },
     "execution_count": 603,
     "metadata": {},
     "output_type": "execute_result"
    }
   ],
   "source": [
    "movies_data.duplicated()"
   ]
  },
  {
   "cell_type": "code",
   "execution_count": 605,
   "id": "3ad0588c-a854-411c-a346-0ee08e92da9c",
   "metadata": {},
   "outputs": [
    {
     "data": {
      "text/plain": [
       "1       False\n",
       "2       False\n",
       "5       False\n",
       "17      False\n",
       "18      False\n",
       "        ...  \n",
       "8785    False\n",
       "8786    False\n",
       "8787    False\n",
       "8788    False\n",
       "8789    False\n",
       "Length: 2664, dtype: bool"
      ]
     },
     "execution_count": 605,
     "metadata": {},
     "output_type": "execute_result"
    }
   ],
   "source": [
    "tvshow_data.duplicated()"
   ]
  },
  {
   "cell_type": "code",
   "execution_count": 607,
   "id": "62fbfd47-c089-4120-ab8a-6bce3bb4ac0a",
   "metadata": {},
   "outputs": [],
   "source": [
    "import matplotlib.pyplot as plt"
   ]
  },
  {
   "cell_type": "markdown",
   "id": "d5e50885-7482-49ce-aa05-ab77c225d38e",
   "metadata": {},
   "source": [
    "# Which countries have produced the most TV Shows?\n",
    "\n"
   ]
  },
  {
   "cell_type": "code",
   "execution_count": 610,
   "id": "d4ce0249-179c-4f2c-b942-b9b95bb2e63f",
   "metadata": {},
   "outputs": [
    {
     "data": {
      "text/plain": [
       "array(['France', 'United States', 'United Kingdom', 'Pakistan',\n",
       "       'Not Given', 'South Africa', 'Nigeria', 'Spain', 'India', 'Taiwan',\n",
       "       'Poland', 'Saudi Arabia', 'Philippines', 'Japan', 'Thailand',\n",
       "       'South Korea', 'Belgium', 'Canada', 'Italy', 'Brazil', 'Argentina',\n",
       "       'Mexico', 'Russia', 'China', 'Turkey', 'Colombia', 'Denmark',\n",
       "       'Australia', 'Malaysia', 'Israel', 'Finland', 'Ireland', 'Jordan',\n",
       "       'Germany', 'Sweden', 'Iceland', 'United Arab Emirates', 'Norway',\n",
       "       'Lebanon', 'Uruguay', 'Egypt', 'Luxembourg', 'Senegal',\n",
       "       'Netherlands', 'Kuwait', 'Indonesia', 'Belarus', 'Chile',\n",
       "       'Puerto Rico', 'Austria', 'Cyprus', 'Mauritius', 'Singapore',\n",
       "       'Hong Kong', 'New Zealand', 'Croatia', 'Czech Republic', 'Ukraine',\n",
       "       'Switzerland'], dtype=object)"
      ]
     },
     "execution_count": 610,
     "metadata": {},
     "output_type": "execute_result"
    }
   ],
   "source": [
    "tvshow_data['country'].unique()"
   ]
  },
  {
   "cell_type": "code",
   "execution_count": 612,
   "id": "f0488e99-b656-4bb4-bd15-5fd4fef80747",
   "metadata": {},
   "outputs": [],
   "source": [
    "grouped=tvshow_data.groupby('country')['show_id'].count()"
   ]
  },
  {
   "cell_type": "code",
   "execution_count": 614,
   "id": "c52fb0d0-e7ae-42ab-9799-52e1c481ed47",
   "metadata": {},
   "outputs": [],
   "source": [
    "grouped=grouped.reset_index()"
   ]
  },
  {
   "cell_type": "code",
   "execution_count": 616,
   "id": "32fe447e-2117-4803-b701-aede0145bc8a",
   "metadata": {},
   "outputs": [],
   "source": [
    "grouped=grouped.sort_values(by='show_id',ascending=False)"
   ]
  },
  {
   "cell_type": "code",
   "execution_count": 618,
   "id": "c918df1b-d812-46b1-95ae-11149245456f",
   "metadata": {},
   "outputs": [],
   "source": [
    "most_tv_shows=grouped.head(5)"
   ]
  },
  {
   "cell_type": "code",
   "execution_count": 620,
   "id": "0bfac212-3720-42c8-9355-befa6d1fb0a3",
   "metadata": {},
   "outputs": [
    {
     "data": {
      "image/png": "[encoded data removed]",
      "text/plain": [
       "<Figure size 640x480 with 1 Axes>"
      ]
     },
     "metadata": {},
     "output_type": "display_data"
    }
   ],
   "source": [
    "x=most_tv_shows['country']\n",
    "y=most_tv_shows['show_id']\n",
    "plt.xlabel('country')\n",
    "plt.ylabel('shows')\n",
    "plt.title('countries have produced the most TV Shows')\n",
    "plt.bar(x,y)\n",
    "plt.show()"
   ]
  },
  {
   "cell_type": "markdown",
   "id": "2734aaaa-2a36-4ef9-9c38-1a0b299891bd",
   "metadata": {},
   "source": [
    "# How many TV Shows are added each year?"
   ]
  },
  {
   "cell_type": "code",
   "execution_count": 623,
   "id": "6b47ec76-88c4-4593-b0d1-0dbab3bda8ec",
   "metadata": {},
   "outputs": [],
   "source": [
    "grouped=tvshow_data.groupby(tvshow_data['date_added'].dt.year)['show_id'].count()"
   ]
  },
  {
   "cell_type": "code",
   "execution_count": 625,
   "id": "78ee2485-d3c1-4b5a-aabb-5ea857e5ff5e",
   "metadata": {},
   "outputs": [],
   "source": [
    "grouped=grouped.reset_index()"
   ]
  },
  {
   "cell_type": "code",
   "execution_count": 627,
   "id": "11b52207-9ecf-45e1-9a5b-3a40c4ab8580",
   "metadata": {},
   "outputs": [
    {
     "data": {
      "text/html": [
       "<div>\n",
       "<style scoped>\n",
       "    .dataframe tbody tr th:only-of-type {\n",
       "        vertical-align: middle;\n",
       "    }\n",
       "\n",
       "    .dataframe tbody tr th {\n",
       "        vertical-align: top;\n",
       "    }\n",
       "\n",
       "    .dataframe thead th {\n",
       "        text-align: right;\n",
       "    }\n",
       "</style>\n",
       "<table border=\"1\" class=\"dataframe\">\n",
       "  <thead>\n",
       "    <tr style=\"text-align: right;\">\n",
       "      <th></th>\n",
       "      <th>date_added</th>\n",
       "      <th>show_id</th>\n",
       "    </tr>\n",
       "  </thead>\n",
       "  <tbody>\n",
       "    <tr>\n",
       "      <th>0</th>\n",
       "      <td>2008</td>\n",
       "      <td>1</td>\n",
       "    </tr>\n",
       "    <tr>\n",
       "      <th>1</th>\n",
       "      <td>2013</td>\n",
       "      <td>5</td>\n",
       "    </tr>\n",
       "    <tr>\n",
       "      <th>2</th>\n",
       "      <td>2014</td>\n",
       "      <td>5</td>\n",
       "    </tr>\n",
       "    <tr>\n",
       "      <th>3</th>\n",
       "      <td>2015</td>\n",
       "      <td>26</td>\n",
       "    </tr>\n",
       "    <tr>\n",
       "      <th>4</th>\n",
       "      <td>2016</td>\n",
       "      <td>175</td>\n",
       "    </tr>\n",
       "    <tr>\n",
       "      <th>5</th>\n",
       "      <td>2017</td>\n",
       "      <td>349</td>\n",
       "    </tr>\n",
       "    <tr>\n",
       "      <th>6</th>\n",
       "      <td>2018</td>\n",
       "      <td>411</td>\n",
       "    </tr>\n",
       "    <tr>\n",
       "      <th>7</th>\n",
       "      <td>2019</td>\n",
       "      <td>592</td>\n",
       "    </tr>\n",
       "    <tr>\n",
       "      <th>8</th>\n",
       "      <td>2020</td>\n",
       "      <td>595</td>\n",
       "    </tr>\n",
       "    <tr>\n",
       "      <th>9</th>\n",
       "      <td>2021</td>\n",
       "      <td>505</td>\n",
       "    </tr>\n",
       "  </tbody>\n",
       "</table>\n",
       "</div>"
      ],
      "text/plain": [
       "   date_added  show_id\n",
       "0        2008        1\n",
       "1        2013        5\n",
       "2        2014        5\n",
       "3        2015       26\n",
       "4        2016      175\n",
       "5        2017      349\n",
       "6        2018      411\n",
       "7        2019      592\n",
       "8        2020      595\n",
       "9        2021      505"
      ]
     },
     "execution_count": 627,
     "metadata": {},
     "output_type": "execute_result"
    }
   ],
   "source": [
    "grouped"
   ]
  },
  {
   "cell_type": "code",
   "execution_count": 629,
   "id": "af66d02d-81ad-4435-8832-ffffac2f684a",
   "metadata": {},
   "outputs": [],
   "source": [
    "tvshow_year=grouped"
   ]
  },
  {
   "cell_type": "code",
   "execution_count": 631,
   "id": "1208483e-e831-475a-bf11-13d2247b8e7d",
   "metadata": {},
   "outputs": [
    {
     "data": {
      "image/png": "[encoded data removed]",
      "text/plain": [
       "<Figure size 640x480 with 1 Axes>"
      ]
     },
     "metadata": {},
     "output_type": "display_data"
    }
   ],
   "source": [
    "x=tvshow_year['date_added']\n",
    "y=tvshow_year['show_id']\n",
    "plt.xlabel('Year')\n",
    "plt.ylabel('TVshows')\n",
    "plt.title('TV Shows are added each year')\n",
    "plt.plot(x,y)\n",
    "plt.show()"
   ]
  },
  {
   "cell_type": "markdown",
   "id": "0da27e24-f3b4-4421-870b-7e1cc5611cd4",
   "metadata": {},
   "source": [
    "# How does the count of TV Shows vary by rating?"
   ]
  },
  {
   "cell_type": "code",
   "execution_count": 634,
   "id": "b38b6ab1-a330-40ca-81b7-45c367defcfd",
   "metadata": {},
   "outputs": [],
   "source": [
    "grouped=tvshow_data.groupby('rating')['show_id'].count()"
   ]
  },
  {
   "cell_type": "code",
   "execution_count": 636,
   "id": "361b9d41-0c71-4191-83b4-78e17474a35c",
   "metadata": {},
   "outputs": [],
   "source": [
    "grouped=grouped.reset_index()"
   ]
  },
  {
   "cell_type": "code",
   "execution_count": 638,
   "id": "c4a7d367-6fd4-41fc-969f-ec4378cd1910",
   "metadata": {},
   "outputs": [],
   "source": [
    "grouped=grouped.sort_values(by='show_id',ascending=False)"
   ]
  },
  {
   "cell_type": "code",
   "execution_count": 640,
   "id": "d3313493-d37f-478c-b11a-ce42a9ec1025",
   "metadata": {},
   "outputs": [],
   "source": [
    "count_tvshow_rating=grouped.head(5)"
   ]
  },
  {
   "cell_type": "code",
   "execution_count": 642,
   "id": "40789bba-7266-49df-8ac6-fb7a4e8b3ed4",
   "metadata": {},
   "outputs": [
    {
     "data": {
      "image/png": "[encoded data removed]",
      "text/plain": [
       "<Figure size 640x480 with 1 Axes>"
      ]
     },
     "metadata": {},
     "output_type": "display_data"
    }
   ],
   "source": [
    "x=count_tvshow_rating['rating']\n",
    "y=count_tvshow_rating['show_id']\n",
    "plt.xlabel('Rating')\n",
    "plt.ylabel('TVshows')\n",
    "plt.title('count of TV Shows vary by rating')\n",
    "plt.bar(x,y)\n",
    "plt.show()"
   ]
  },
  {
   "cell_type": "markdown",
   "id": "aa6b94db-55f3-456c-b2b1-e9e688c8b578",
   "metadata": {},
   "source": [
    "# What is the trend of Movie additions over the years?"
   ]
  },
  {
   "cell_type": "code",
   "execution_count": 645,
   "id": "4f4710e6-58a0-4a15-a339-fb275251034b",
   "metadata": {},
   "outputs": [],
   "source": [
    "grouped=movies_data.groupby(movies_data['date_added'].dt.year)['show_id'].count()"
   ]
  },
  {
   "cell_type": "code",
   "execution_count": 647,
   "id": "973e676b-8d52-4653-af42-78611e60016f",
   "metadata": {},
   "outputs": [],
   "source": [
    "grouped=grouped.reset_index()"
   ]
  },
  {
   "cell_type": "code",
   "execution_count": 649,
   "id": "2b0f568f-b6de-4765-a906-169332e1dbee",
   "metadata": {},
   "outputs": [],
   "source": [
    "movies_year=grouped"
   ]
  },
  {
   "cell_type": "code",
   "execution_count": 651,
   "id": "ff998012-e4fc-4bc1-9661-360c136c7e5f",
   "metadata": {},
   "outputs": [
    {
     "data": {
      "image/png": "[encoded data removed]",
      "text/plain": [
       "<Figure size 640x480 with 1 Axes>"
      ]
     },
     "metadata": {},
     "output_type": "display_data"
    }
   ],
   "source": [
    "x=movies_year['date_added']\n",
    "y=movies_year['show_id']\n",
    "plt.xlabel('Year')\n",
    "plt.ylabel('Movies')\n",
    "plt.title('Trend of Movie additions over the years')\n",
    "plt.plot(x,y)\n",
    "plt.show()"
   ]
  },
  {
   "cell_type": "markdown",
   "id": "e473dbf7-ad21-44d5-990a-2c92639f546d",
   "metadata": {},
   "source": [
    "# What are the most common movie lengths?"
   ]
  },
  {
   "cell_type": "code",
   "execution_count": 654,
   "id": "92de1f2e-1e8a-4211-9839-ae8c6048364d",
   "metadata": {},
   "outputs": [],
   "source": [
    "grouped=movies_data.groupby('duration')['show_id'].count()"
   ]
  },
  {
   "cell_type": "code",
   "execution_count": 656,
   "id": "81faa92d-e3cc-4ee4-81e4-e3178e0a5b8c",
   "metadata": {},
   "outputs": [],
   "source": [
    "grouped=grouped.reset_index()"
   ]
  },
  {
   "cell_type": "code",
   "execution_count": 658,
   "id": "d2a3a1ff-946d-4377-a3c1-f8f50ba0d4f3",
   "metadata": {},
   "outputs": [
    {
     "data": {
      "text/html": [
       "<div>\n",
       "<style scoped>\n",
       "    .dataframe tbody tr th:only-of-type {\n",
       "        vertical-align: middle;\n",
       "    }\n",
       "\n",
       "    .dataframe tbody tr th {\n",
       "        vertical-align: top;\n",
       "    }\n",
       "\n",
       "    .dataframe thead th {\n",
       "        text-align: right;\n",
       "    }\n",
       "</style>\n",
       "<table border=\"1\" class=\"dataframe\">\n",
       "  <thead>\n",
       "    <tr style=\"text-align: right;\">\n",
       "      <th></th>\n",
       "      <th>duration</th>\n",
       "      <th>show_id</th>\n",
       "    </tr>\n",
       "  </thead>\n",
       "  <tbody>\n",
       "    <tr>\n",
       "      <th>0</th>\n",
       "      <td>10 min</td>\n",
       "      <td>1</td>\n",
       "    </tr>\n",
       "    <tr>\n",
       "      <th>1</th>\n",
       "      <td>100 min</td>\n",
       "      <td>108</td>\n",
       "    </tr>\n",
       "    <tr>\n",
       "      <th>2</th>\n",
       "      <td>101 min</td>\n",
       "      <td>116</td>\n",
       "    </tr>\n",
       "    <tr>\n",
       "      <th>3</th>\n",
       "      <td>102 min</td>\n",
       "      <td>122</td>\n",
       "    </tr>\n",
       "    <tr>\n",
       "      <th>4</th>\n",
       "      <td>103 min</td>\n",
       "      <td>114</td>\n",
       "    </tr>\n",
       "    <tr>\n",
       "      <th>...</th>\n",
       "      <td>...</td>\n",
       "      <td>...</td>\n",
       "    </tr>\n",
       "    <tr>\n",
       "      <th>200</th>\n",
       "      <td>95 min</td>\n",
       "      <td>137</td>\n",
       "    </tr>\n",
       "    <tr>\n",
       "      <th>201</th>\n",
       "      <td>96 min</td>\n",
       "      <td>130</td>\n",
       "    </tr>\n",
       "    <tr>\n",
       "      <th>202</th>\n",
       "      <td>97 min</td>\n",
       "      <td>146</td>\n",
       "    </tr>\n",
       "    <tr>\n",
       "      <th>203</th>\n",
       "      <td>98 min</td>\n",
       "      <td>120</td>\n",
       "    </tr>\n",
       "    <tr>\n",
       "      <th>204</th>\n",
       "      <td>99 min</td>\n",
       "      <td>118</td>\n",
       "    </tr>\n",
       "  </tbody>\n",
       "</table>\n",
       "<p>205 rows × 2 columns</p>\n",
       "</div>"
      ],
      "text/plain": [
       "    duration  show_id\n",
       "0     10 min        1\n",
       "1    100 min      108\n",
       "2    101 min      116\n",
       "3    102 min      122\n",
       "4    103 min      114\n",
       "..       ...      ...\n",
       "200   95 min      137\n",
       "201   96 min      130\n",
       "202   97 min      146\n",
       "203   98 min      120\n",
       "204   99 min      118\n",
       "\n",
       "[205 rows x 2 columns]"
      ]
     },
     "execution_count": 658,
     "metadata": {},
     "output_type": "execute_result"
    }
   ],
   "source": [
    "grouped"
   ]
  },
  {
   "cell_type": "code",
   "execution_count": 660,
   "id": "902a2bd3-9838-4b78-931a-5422ebd756f9",
   "metadata": {},
   "outputs": [],
   "source": [
    "grouped=grouped.sort_values(by='show_id',ascending=False)"
   ]
  },
  {
   "cell_type": "code",
   "execution_count": 662,
   "id": "0cfd6ad9-4dd8-4256-9da5-65bf83e01576",
   "metadata": {},
   "outputs": [],
   "source": [
    "common_length=grouped.head(6)"
   ]
  },
  {
   "cell_type": "code",
   "execution_count": 664,
   "id": "fa898e15-458e-4b8b-9cd5-063c9707d68b",
   "metadata": {},
   "outputs": [
    {
     "data": {
      "image/png": "[encoded data removed]",
      "text/plain": [
       "<Figure size 640x480 with 1 Axes>"
      ]
     },
     "metadata": {},
     "output_type": "display_data"
    }
   ],
   "source": [
    "x=common_length['duration']\n",
    "y=common_length['show_id']\n",
    "plt.bar(x,y)\n",
    "plt.show()"
   ]
  },
  {
   "cell_type": "markdown",
   "id": "b0b07dea-01ea-480c-8bb4-459339db9dda",
   "metadata": {},
   "source": [
    "# How do the most popular Movie categories vary across different countries?"
   ]
  },
  {
   "cell_type": "code",
   "execution_count": 667,
   "id": "6a3d5aea-a7ff-4238-9e83-20a8253c4d8c",
   "metadata": {},
   "outputs": [],
   "source": [
    "data_split = movies_data['listed_in'].str.split(',',expand=True)"
   ]
  },
  {
   "cell_type": "code",
   "execution_count": 669,
   "id": "d4cb4cf6-c683-4885-b383-776558790f80",
   "metadata": {},
   "outputs": [
    {
     "data": {
      "text/html": [
       "<div>\n",
       "<style scoped>\n",
       "    .dataframe tbody tr th:only-of-type {\n",
       "        vertical-align: middle;\n",
       "    }\n",
       "\n",
       "    .dataframe tbody tr th {\n",
       "        vertical-align: top;\n",
       "    }\n",
       "\n",
       "    .dataframe thead th {\n",
       "        text-align: right;\n",
       "    }\n",
       "</style>\n",
       "<table border=\"1\" class=\"dataframe\">\n",
       "  <thead>\n",
       "    <tr style=\"text-align: right;\">\n",
       "      <th></th>\n",
       "      <th>0</th>\n",
       "      <th>1</th>\n",
       "      <th>2</th>\n",
       "    </tr>\n",
       "  </thead>\n",
       "  <tbody>\n",
       "    <tr>\n",
       "      <th>0</th>\n",
       "      <td>Documentaries</td>\n",
       "      <td>None</td>\n",
       "      <td>None</td>\n",
       "    </tr>\n",
       "    <tr>\n",
       "      <th>3</th>\n",
       "      <td>Children &amp; Family Movies</td>\n",
       "      <td>Comedies</td>\n",
       "      <td>None</td>\n",
       "    </tr>\n",
       "    <tr>\n",
       "      <th>4</th>\n",
       "      <td>Dramas</td>\n",
       "      <td>Independent Movies</td>\n",
       "      <td>International Movies</td>\n",
       "    </tr>\n",
       "    <tr>\n",
       "      <th>6</th>\n",
       "      <td>Comedies</td>\n",
       "      <td>Dramas</td>\n",
       "      <td>None</td>\n",
       "    </tr>\n",
       "    <tr>\n",
       "      <th>7</th>\n",
       "      <td>Children &amp; Family Movies</td>\n",
       "      <td>Comedies</td>\n",
       "      <td>Music &amp; Musicals</td>\n",
       "    </tr>\n",
       "    <tr>\n",
       "      <th>...</th>\n",
       "      <td>...</td>\n",
       "      <td>...</td>\n",
       "      <td>...</td>\n",
       "    </tr>\n",
       "    <tr>\n",
       "      <th>8702</th>\n",
       "      <td>Action &amp; Adventure</td>\n",
       "      <td>Dramas</td>\n",
       "      <td>International Movies</td>\n",
       "    </tr>\n",
       "    <tr>\n",
       "      <th>8707</th>\n",
       "      <td>Action &amp; Adventure</td>\n",
       "      <td>Independent Movies</td>\n",
       "      <td>International Movies</td>\n",
       "    </tr>\n",
       "    <tr>\n",
       "      <th>8716</th>\n",
       "      <td>Action &amp; Adventure</td>\n",
       "      <td>Dramas</td>\n",
       "      <td>International Movies</td>\n",
       "    </tr>\n",
       "    <tr>\n",
       "      <th>8763</th>\n",
       "      <td>Dramas</td>\n",
       "      <td>International Movies</td>\n",
       "      <td>None</td>\n",
       "    </tr>\n",
       "    <tr>\n",
       "      <th>8783</th>\n",
       "      <td>Children &amp; Family Movies</td>\n",
       "      <td>None</td>\n",
       "      <td>None</td>\n",
       "    </tr>\n",
       "  </tbody>\n",
       "</table>\n",
       "<p>6126 rows × 3 columns</p>\n",
       "</div>"
      ],
      "text/plain": [
       "                             0                      1                      2\n",
       "0                Documentaries                   None                   None\n",
       "3     Children & Family Movies               Comedies                   None\n",
       "4                       Dramas     Independent Movies   International Movies\n",
       "6                     Comedies                 Dramas                   None\n",
       "7     Children & Family Movies               Comedies       Music & Musicals\n",
       "...                        ...                    ...                    ...\n",
       "8702        Action & Adventure                 Dramas   International Movies\n",
       "8707        Action & Adventure     Independent Movies   International Movies\n",
       "8716        Action & Adventure                 Dramas   International Movies\n",
       "8763                    Dramas   International Movies                   None\n",
       "8783  Children & Family Movies                   None                   None\n",
       "\n",
       "[6126 rows x 3 columns]"
      ]
     },
     "execution_count": 669,
     "metadata": {},
     "output_type": "execute_result"
    }
   ],
   "source": [
    "data_split"
   ]
  },
  {
   "cell_type": "code",
   "execution_count": 683,
   "id": "7a90af03-c419-4113-a1dc-672fcfaaacd7",
   "metadata": {},
   "outputs": [],
   "source": [
    "movies_data=movies_data.join(data_split)"
   ]
  },
  {
   "cell_type": "code",
   "execution_count": 685,
   "id": "d7494dc9-e285-4413-a77b-0a8ddaa102d6",
   "metadata": {},
   "outputs": [],
   "source": [
    "movies_data=movies_data.drop(columns=2)"
   ]
  },
  {
   "cell_type": "code",
   "execution_count": 687,
   "id": "fb960707-b8d8-4601-9f04-57228a4b6e7e",
   "metadata": {},
   "outputs": [],
   "source": [
    "movies_data = movies_data.rename(columns={0: 'category', 1: 'genres'})\n"
   ]
  },
  {
   "cell_type": "code",
   "execution_count": 689,
   "id": "e0f32a30-b8cb-4e1d-99a2-59017fe875fd",
   "metadata": {},
   "outputs": [
    {
     "data": {
      "text/plain": [
       "show_id            0\n",
       "type               0\n",
       "title              0\n",
       "director           0\n",
       "country            0\n",
       "date_added         0\n",
       "release_year       0\n",
       "rating             0\n",
       "duration           0\n",
       "listed_in          0\n",
       "category           0\n",
       "genres          1476\n",
       "dtype: int64"
      ]
     },
     "execution_count": 689,
     "metadata": {},
     "output_type": "execute_result"
    }
   ],
   "source": [
    "movies_data.isnull().sum()"
   ]
  },
  {
   "cell_type": "code",
   "execution_count": 691,
   "id": "40e0a081-8c34-47e8-aebc-75e17d2ace8f",
   "metadata": {},
   "outputs": [],
   "source": [
    "movies_data['genres']=movies_data['genres'].fillna(movies_data['genres'].mode()[0])"
   ]
  },
  {
   "cell_type": "code",
   "execution_count": 693,
   "id": "c0b2228c-a454-49c4-9744-b5153ea9a78b",
   "metadata": {},
   "outputs": [
    {
     "data": {
      "text/plain": [
       "show_id         0\n",
       "type            0\n",
       "title           0\n",
       "director        0\n",
       "country         0\n",
       "date_added      0\n",
       "release_year    0\n",
       "rating          0\n",
       "duration        0\n",
       "listed_in       0\n",
       "category        0\n",
       "genres          0\n",
       "dtype: int64"
      ]
     },
     "execution_count": 693,
     "metadata": {},
     "output_type": "execute_result"
    }
   ],
   "source": [
    "movies_data.isnull().sum()"
   ]
  },
  {
   "cell_type": "code",
   "execution_count": 731,
   "id": "c2e24186-10f3-4e9f-ad8b-6bdacf8d1509",
   "metadata": {},
   "outputs": [],
   "source": [
    "category_counts = movies_data.groupby(['country', 'category']).size().reset_index(name='count')\n"
   ]
  },
  {
   "cell_type": "code",
   "execution_count": 733,
   "id": "2b9147a4-bd63-4ac8-aedd-ee0d6cf7ee92",
   "metadata": {},
   "outputs": [],
   "source": [
    "category_counts=category_counts.sort_values(by='count',ascending=False)"
   ]
  },
  {
   "cell_type": "code",
   "execution_count": 743,
   "id": "0a265395-3d69-46cd-a9b3-cb86f7de00df",
   "metadata": {},
   "outputs": [],
   "source": [
    "category_counts=category_counts.head(30)"
   ]
  },
  {
   "cell_type": "code",
   "execution_count": 745,
   "id": "fc418d78-a6ae-436b-8fd5-ad7f24ff72cc",
   "metadata": {},
   "outputs": [
    {
     "ename": "KeyError",
     "evalue": "'listed_in'",
     "output_type": "error",
     "traceback": [
      "\u001b[1;31m---------------------------------------------------------------------------\u001b[0m",
      "\u001b[1;31mKeyError\u001b[0m                                  Traceback (most recent call last)",
      "File \u001b[1;32m~\\anaconda3\\Lib\\site-packages\\pandas\\core\\indexes\\base.py:3805\u001b[0m, in \u001b[0;36mIndex.get_loc\u001b[1;34m(self, key)\u001b[0m\n\u001b[0;32m   3804\u001b[0m \u001b[38;5;28;01mtry\u001b[39;00m:\n\u001b[1;32m-> 3805\u001b[0m     \u001b[38;5;28;01mreturn\u001b[39;00m \u001b[38;5;28mself\u001b[39m\u001b[38;5;241m.\u001b[39m_engine\u001b[38;5;241m.\u001b[39mget_loc(casted_key)\n\u001b[0;32m   3806\u001b[0m \u001b[38;5;28;01mexcept\u001b[39;00m \u001b[38;5;167;01mKeyError\u001b[39;00m \u001b[38;5;28;01mas\u001b[39;00m err:\n",
      "File \u001b[1;32mindex.pyx:167\u001b[0m, in \u001b[0;36mpandas._libs.index.IndexEngine.get_loc\u001b[1;34m()\u001b[0m\n",
      "File \u001b[1;32mindex.pyx:196\u001b[0m, in \u001b[0;36mpandas._libs.index.IndexEngine.get_loc\u001b[1;34m()\u001b[0m\n",
      "File \u001b[1;32mpandas\\\\_libs\\\\hashtable_class_helper.pxi:7081\u001b[0m, in \u001b[0;36mpandas._libs.hashtable.PyObjectHashTable.get_item\u001b[1;34m()\u001b[0m\n",
      "File \u001b[1;32mpandas\\\\_libs\\\\hashtable_class_helper.pxi:7089\u001b[0m, in \u001b[0;36mpandas._libs.hashtable.PyObjectHashTable.get_item\u001b[1;34m()\u001b[0m\n",
      "\u001b[1;31mKeyError\u001b[0m: 'listed_in'",
      "\nThe above exception was the direct cause of the following exception:\n",
      "\u001b[1;31mKeyError\u001b[0m                                  Traceback (most recent call last)",
      "Cell \u001b[1;32mIn[745], line 1\u001b[0m\n\u001b[1;32m----> 1\u001b[0m pivot_table \u001b[38;5;241m=\u001b[39m category_counts\u001b[38;5;241m.\u001b[39mpivot(index\u001b[38;5;241m=\u001b[39m\u001b[38;5;124m'\u001b[39m\u001b[38;5;124mcountry\u001b[39m\u001b[38;5;124m'\u001b[39m, columns\u001b[38;5;241m=\u001b[39m\u001b[38;5;124m'\u001b[39m\u001b[38;5;124mlisted_in\u001b[39m\u001b[38;5;124m'\u001b[39m, values\u001b[38;5;241m=\u001b[39m\u001b[38;5;124m'\u001b[39m\u001b[38;5;124mcount\u001b[39m\u001b[38;5;124m'\u001b[39m)\u001b[38;5;241m.\u001b[39mfillna(\u001b[38;5;241m0\u001b[39m)\n",
      "File \u001b[1;32m~\\anaconda3\\Lib\\site-packages\\pandas\\core\\frame.py:9339\u001b[0m, in \u001b[0;36mDataFrame.pivot\u001b[1;34m(self, columns, index, values)\u001b[0m\n\u001b[0;32m   9332\u001b[0m \u001b[38;5;129m@Substitution\u001b[39m(\u001b[38;5;124m\"\u001b[39m\u001b[38;5;124m\"\u001b[39m)\n\u001b[0;32m   9333\u001b[0m \u001b[38;5;129m@Appender\u001b[39m(_shared_docs[\u001b[38;5;124m\"\u001b[39m\u001b[38;5;124mpivot\u001b[39m\u001b[38;5;124m\"\u001b[39m])\n\u001b[0;32m   9334\u001b[0m \u001b[38;5;28;01mdef\u001b[39;00m \u001b[38;5;21mpivot\u001b[39m(\n\u001b[0;32m   9335\u001b[0m     \u001b[38;5;28mself\u001b[39m, \u001b[38;5;241m*\u001b[39m, columns, index\u001b[38;5;241m=\u001b[39mlib\u001b[38;5;241m.\u001b[39mno_default, values\u001b[38;5;241m=\u001b[39mlib\u001b[38;5;241m.\u001b[39mno_default\n\u001b[0;32m   9336\u001b[0m ) \u001b[38;5;241m-\u001b[39m\u001b[38;5;241m>\u001b[39m DataFrame:\n\u001b[0;32m   9337\u001b[0m     \u001b[38;5;28;01mfrom\u001b[39;00m \u001b[38;5;21;01mpandas\u001b[39;00m\u001b[38;5;21;01m.\u001b[39;00m\u001b[38;5;21;01mcore\u001b[39;00m\u001b[38;5;21;01m.\u001b[39;00m\u001b[38;5;21;01mreshape\u001b[39;00m\u001b[38;5;21;01m.\u001b[39;00m\u001b[38;5;21;01mpivot\u001b[39;00m \u001b[38;5;28;01mimport\u001b[39;00m pivot\n\u001b[1;32m-> 9339\u001b[0m     \u001b[38;5;28;01mreturn\u001b[39;00m pivot(\u001b[38;5;28mself\u001b[39m, index\u001b[38;5;241m=\u001b[39mindex, columns\u001b[38;5;241m=\u001b[39mcolumns, values\u001b[38;5;241m=\u001b[39mvalues)\n",
      "File \u001b[1;32m~\\anaconda3\\Lib\\site-packages\\pandas\\core\\reshape\\pivot.py:555\u001b[0m, in \u001b[0;36mpivot\u001b[1;34m(data, columns, index, values)\u001b[0m\n\u001b[0;32m    552\u001b[0m \u001b[38;5;28;01melse\u001b[39;00m:\n\u001b[0;32m    553\u001b[0m     index_list \u001b[38;5;241m=\u001b[39m [data[idx] \u001b[38;5;28;01mfor\u001b[39;00m idx \u001b[38;5;129;01min\u001b[39;00m com\u001b[38;5;241m.\u001b[39mconvert_to_list_like(index)]\n\u001b[1;32m--> 555\u001b[0m data_columns \u001b[38;5;241m=\u001b[39m [data[col] \u001b[38;5;28;01mfor\u001b[39;00m col \u001b[38;5;129;01min\u001b[39;00m columns_listlike]\n\u001b[0;32m    556\u001b[0m index_list\u001b[38;5;241m.\u001b[39mextend(data_columns)\n\u001b[0;32m    557\u001b[0m multiindex \u001b[38;5;241m=\u001b[39m MultiIndex\u001b[38;5;241m.\u001b[39mfrom_arrays(index_list)\n",
      "File \u001b[1;32m~\\anaconda3\\Lib\\site-packages\\pandas\\core\\frame.py:4102\u001b[0m, in \u001b[0;36mDataFrame.__getitem__\u001b[1;34m(self, key)\u001b[0m\n\u001b[0;32m   4100\u001b[0m \u001b[38;5;28;01mif\u001b[39;00m \u001b[38;5;28mself\u001b[39m\u001b[38;5;241m.\u001b[39mcolumns\u001b[38;5;241m.\u001b[39mnlevels \u001b[38;5;241m>\u001b[39m \u001b[38;5;241m1\u001b[39m:\n\u001b[0;32m   4101\u001b[0m     \u001b[38;5;28;01mreturn\u001b[39;00m \u001b[38;5;28mself\u001b[39m\u001b[38;5;241m.\u001b[39m_getitem_multilevel(key)\n\u001b[1;32m-> 4102\u001b[0m indexer \u001b[38;5;241m=\u001b[39m \u001b[38;5;28mself\u001b[39m\u001b[38;5;241m.\u001b[39mcolumns\u001b[38;5;241m.\u001b[39mget_loc(key)\n\u001b[0;32m   4103\u001b[0m \u001b[38;5;28;01mif\u001b[39;00m is_integer(indexer):\n\u001b[0;32m   4104\u001b[0m     indexer \u001b[38;5;241m=\u001b[39m [indexer]\n",
      "File \u001b[1;32m~\\anaconda3\\Lib\\site-packages\\pandas\\core\\indexes\\base.py:3812\u001b[0m, in \u001b[0;36mIndex.get_loc\u001b[1;34m(self, key)\u001b[0m\n\u001b[0;32m   3807\u001b[0m     \u001b[38;5;28;01mif\u001b[39;00m \u001b[38;5;28misinstance\u001b[39m(casted_key, \u001b[38;5;28mslice\u001b[39m) \u001b[38;5;129;01mor\u001b[39;00m (\n\u001b[0;32m   3808\u001b[0m         \u001b[38;5;28misinstance\u001b[39m(casted_key, abc\u001b[38;5;241m.\u001b[39mIterable)\n\u001b[0;32m   3809\u001b[0m         \u001b[38;5;129;01mand\u001b[39;00m \u001b[38;5;28many\u001b[39m(\u001b[38;5;28misinstance\u001b[39m(x, \u001b[38;5;28mslice\u001b[39m) \u001b[38;5;28;01mfor\u001b[39;00m x \u001b[38;5;129;01min\u001b[39;00m casted_key)\n\u001b[0;32m   3810\u001b[0m     ):\n\u001b[0;32m   3811\u001b[0m         \u001b[38;5;28;01mraise\u001b[39;00m InvalidIndexError(key)\n\u001b[1;32m-> 3812\u001b[0m     \u001b[38;5;28;01mraise\u001b[39;00m \u001b[38;5;167;01mKeyError\u001b[39;00m(key) \u001b[38;5;28;01mfrom\u001b[39;00m \u001b[38;5;21;01merr\u001b[39;00m\n\u001b[0;32m   3813\u001b[0m \u001b[38;5;28;01mexcept\u001b[39;00m \u001b[38;5;167;01mTypeError\u001b[39;00m:\n\u001b[0;32m   3814\u001b[0m     \u001b[38;5;66;03m# If we have a listlike key, _check_indexing_error will raise\u001b[39;00m\n\u001b[0;32m   3815\u001b[0m     \u001b[38;5;66;03m#  InvalidIndexError. Otherwise we fall through and re-raise\u001b[39;00m\n\u001b[0;32m   3816\u001b[0m     \u001b[38;5;66;03m#  the TypeError.\u001b[39;00m\n\u001b[0;32m   3817\u001b[0m     \u001b[38;5;28mself\u001b[39m\u001b[38;5;241m.\u001b[39m_check_indexing_error(key)\n",
      "\u001b[1;31mKeyError\u001b[0m: 'listed_in'"
     ]
    }
   ],
   "source": [
    "pivot_table = category_counts.pivot(index='country', columns='cate', values='count').fillna(0)\n"
   ]
  },
  {
   "cell_type": "code",
   "execution_count": null,
   "id": "5ae95d3f-2c13-4b45-8bc9-ea331e446678",
   "metadata": {},
   "outputs": [],
   "source": []
  }
 ],
 "metadata": {
  "kernelspec": {
   "display_name": "Python 3 (ipykernel)",
   "language": "python",
   "name": "python3"
  },
  "language_info": {
   "codemirror_mode": {
    "name": "ipython",
    "version": 3
   },
   "file_extension": ".py",
   "mimetype": "text/x-python",
   "name": "python",
   "nbconvert_exporter": "python",
   "pygments_lexer": "ipython3",
   "version": "3.12.4"
  }
 },
 "nbformat": 4,
 "nbformat_minor": 5
}
